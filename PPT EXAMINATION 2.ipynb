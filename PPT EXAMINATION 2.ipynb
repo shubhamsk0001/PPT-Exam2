{
 "cells": [
  {
   "cell_type": "code",
   "execution_count": 2,
   "id": "e0a4839e",
   "metadata": {},
   "outputs": [
    {
     "name": "stdout",
     "output_type": "stream",
     "text": [
      "3\n"
     ]
    }
   ],
   "source": [
    "    def mySqrt(x):\n",
    "        number=1\n",
    "        while number*number<=x:\n",
    "            number+=1\n",
    "        return number\n",
    "    print(mySqrt(4))"
   ]
  },
  {
   "cell_type": "code",
   "execution_count": 6,
   "id": "b1020105",
   "metadata": {},
   "outputs": [
    {
     "name": "stdout",
     "output_type": "stream",
     "text": [
      "2\n"
     ]
    }
   ],
   "source": [
    "    def mySqrt( x):\n",
    "        left=0\n",
    "        right=10000000\n",
    "        mid=(left+right)//2\n",
    "        while(True):\n",
    "            temp=mid\n",
    "            if mid*mid>x:\n",
    "                right=mid+1\n",
    "            else:\n",
    "                left=mid\n",
    "            mid=(left+right)//2\n",
    "            if temp==mid:\n",
    "                break\n",
    "        return left\n",
    "    print(mySqrt(4))"
   ]
  },
  {
   "cell_type": "code",
   "execution_count": null,
   "id": "951cf290",
   "metadata": {},
   "outputs": [],
   "source": [
    "    def addTwoNumbers( l1, l2):\n",
    "        carry=0\n",
    "        len_l1=0\n",
    "        len_l2=0\n",
    "        fake_l1=l1\n",
    "        fake_l2=l2\n",
    "\n",
    "        while(fake_l1):\n",
    "            len_l1+=1\n",
    "            fake_l1=fake_l1.next\n",
    "        while(fake_l2):\n",
    "            len_l2+=1\n",
    "            fake_l2=fake_l2.next\n",
    "        print(len_l1,len_l2)\n",
    "        if len_l2>len_l1:\n",
    "            temp=l2\n",
    "            l2=l1\n",
    "            l1=temp\n",
    "        head=l1    \n",
    "        while(l2):\n",
    "            l1.val=l1.val+l2.val+carry\n",
    "            if l1.val>9:\n",
    "                l1.val=l1.val-10\n",
    "                carry=1\n",
    "            else:\n",
    "                carry=0\n",
    "            l1=l1.next\n",
    "            l2=l2.next\n",
    "            \n",
    "        \n",
    "        if carry==1:\n",
    "            while(l1):\n",
    "                # if l1.next==None and carry==1:\n",
    "                #     a=ListNode(1,None)\n",
    "                #     l1.next=a\n",
    "                #     break\n",
    "\n",
    "                l1.val=l1.val+carry\n",
    "                if l1.val>9:\n",
    "                    l1.val=l1.val-10\n",
    "                    carry=1\n",
    "                else:\n",
    "                    carry=0\n",
    "                \n",
    "                if l1.next==None and carry==1:\n",
    "                    a=ListNode(1,None)\n",
    "                    l1.next=a\n",
    "                    carry=0\n",
    "                    break\n",
    "                l1=l1.next\n",
    "        \n",
    "        newHead=head\n",
    "        if carry==1:\n",
    "            while(newHead):\n",
    "                if newHead.next==None:\n",
    "                    a=ListNode(1,None)\n",
    "                    newHead.next=a\n",
    "                    break\n",
    "                newHead=newHead.next  \n",
    "        return head\n",
    "    print(addTwoNumbers([2,4,3], [5,6,4] ))\n",
    "       \n"
   ]
  }
 ],
 "metadata": {
  "kernelspec": {
   "display_name": "Python 3 (ipykernel)",
   "language": "python",
   "name": "python3"
  },
  "language_info": {
   "codemirror_mode": {
    "name": "ipython",
    "version": 3
   },
   "file_extension": ".py",
   "mimetype": "text/x-python",
   "name": "python",
   "nbconvert_exporter": "python",
   "pygments_lexer": "ipython3",
   "version": "3.9.12"
  }
 },
 "nbformat": 4,
 "nbformat_minor": 5
}
